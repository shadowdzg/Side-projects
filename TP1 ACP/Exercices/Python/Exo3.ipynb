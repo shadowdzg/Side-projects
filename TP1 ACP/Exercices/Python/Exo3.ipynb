{
 "cells": [
  {
   "cell_type": "code",
   "execution_count": 3,
   "id": "30bbb4ca-09ea-40f7-80d8-37c2b3f89e49",
   "metadata": {},
   "outputs": [
    {
     "name": "stdout",
     "output_type": "stream",
     "text": [
      "[[1.0000e+00 1.0000e+00 7.2694e-01 1.4742e+00 3.2396e-01 9.8535e-01\n",
      "  1.0000e+00 8.3592e-01 4.6566e-03 3.9465e-03 4.7790e-02 1.2795e-01\n",
      "  1.6108e-02 5.2323e-03 2.7477e-04 1.1756e+00]\n",
      " [1.0000e+00 2.0000e+00 7.4173e-01 1.5257e+00 3.6116e-01 9.8152e-01\n",
      "  9.9825e-01 7.9867e-01 5.2423e-03 5.0016e-03 2.4160e-02 9.0476e-02\n",
      "  8.1195e-03 2.7080e-03 7.4846e-05 6.9659e-01]]\n"
     ]
    },
    {
     "data": {
      "image/png": "[encoded data removed]",
      "text/plain": [
       "<Figure size 432x288 with 1 Axes>"
      ]
     },
     "metadata": {
      "needs_background": "light"
     },
     "output_type": "display_data"
    }
   ],
   "source": [
    "import numpy as np\n",
    "import matplotlib.pyplot as plt\n",
    "from sklearn.decomposition import PCA\n",
    "\n",
    "leaf = np.loadtxt('leaf.csv', delimiter=',')\n",
    "print(leaf[:2,:])\n",
    "\n",
    "from sklearn import preprocessing\n",
    "leafN = preprocessing.scale(leaf[:,2:])\n",
    "pca = PCA()\n",
    "pca.fit(leafN)\n",
    "\n",
    "ratios = pca.explained_variance_ratio_\n",
    "\n",
    "plt.bar(range(len(ratios)), pca.explained_variance_ratio_)\n",
    "plt.xticks(range(len(ratios)))\n",
    "plt.xlabel(\"Composante principale\")\n",
    "plt.ylabel(\"% de variance expliquée\")\n",
    "plt.show()"
   ]
  },
  {
   "cell_type": "code",
   "execution_count": null,
   "id": "522ea046-5b29-49ff-8d6c-9c3385518335",
   "metadata": {},
   "outputs": [],
   "source": []
  }
 ],
 "metadata": {
  "kernelspec": {
   "display_name": "Python 3 (ipykernel)",
   "language": "python",
   "name": "python3"
  },
  "language_info": {
   "codemirror_mode": {
    "name": "ipython",
    "version": 3
   },
   "file_extension": ".py",
   "mimetype": "text/x-python",
   "name": "python",
   "nbconvert_exporter": "python",
   "pygments_lexer": "ipython3",
   "version": "3.9.12"
  }
 },
 "nbformat": 4,
 "nbformat_minor": 5
}
