{
 "cells": [
  {
   "cell_type": "code",
   "execution_count": 1,
   "id": "79960576-33bc-48ad-b1ef-2246226c0705",
   "metadata": {},
   "outputs": [
    {
     "name": "stdout",
     "output_type": "stream",
     "text": [
      "[[6.654e+03 5.712e+03 8.350e+00 1.800e+00 3.300e+00 3.860e+01 6.450e+02\n",
      "  3.000e+00 5.000e+00 3.000e+00]\n",
      " [1.000e+00 6.600e+00 6.300e+00 2.000e+00 8.300e+00 4.500e+00 4.200e+01\n",
      "  3.000e+00 1.000e+00 3.000e+00]]\n",
      "['African elephant  ' 'African giant pouched rat' 'Arctic Fox  '\n",
      " 'Arctic ground squirrel ' 'Asian elephant  ' 'Baboon   ' 'Big brown bat '\n",
      " 'Brazilian tapir  ' 'Cat   ' 'Chimpanzee   ' 'Chinchilla   ' 'Cow   '\n",
      " 'Desert hedgehog  ' 'Donkey   ' 'Eastern American mole ' 'Echidna   '\n",
      " 'European hedgehog  ' 'Galago   ' 'Genet   ' 'Giant armadillo  '\n",
      " 'Giraffe   ' 'Goat   ' 'Golden hamster  ' 'Gorilla   ' 'Gray seal  '\n",
      " 'Gray wolf  ' 'Ground squirrel  ' 'Guinea pig  ' 'Horse   ' 'Jaguar   '\n",
      " 'Kangaroo   ' 'Lesser short-tailed shrew ' 'Little brown bat ' 'Man   '\n",
      " 'Mole rat  ' 'Mountain beaver  ' 'Mouse   ' 'Musk shrew  '\n",
      " 'N. American opossum ' 'Nine-banded armadillo  ' 'Okapi   '\n",
      " 'Owl monkey  ' 'Patas monkey  ' 'Phanlanger   ' 'Pig   ' 'Rabbit   '\n",
      " 'Raccoon   ' 'Rat   ' 'Red fox  ' 'Rhesus monkey  '\n",
      " 'Rock hyrax (Hetero. b)' 'Rock hyrax (Procavia hab)' 'Roe deer  '\n",
      " 'Sheep   ' 'Slow loris  ' 'Star nosed mole ' 'Tenrec   ' 'Tree hyrax  '\n",
      " 'Tree shrew  ' 'Vervet   ' 'Water opossum  ' 'Yellow-bellied marmot  ']\n"
     ]
    }
   ],
   "source": [
    "import numpy as np\n",
    "import matplotlib.pyplot as plt\n",
    "mammals = np.loadtxt('mammals.csv', delimiter=';', usecols=[1,2,3,4,5,6,7,8,9,10], skiprows=1)\n",
    "print(mammals[:2,:])\n",
    "noms = np.genfromtxt('mammals.csv', dtype='str', delimiter=';', usecols=[0], skip_header=1)\n",
    "print(noms)"
   ]
  },
  {
   "cell_type": "code",
   "execution_count": 2,
   "id": "036c9f65-9413-43aa-a33a-011cc530200d",
   "metadata": {},
   "outputs": [
    {
     "name": "stdout",
     "output_type": "stream",
     "text": [
      "Pourcentage de variance expliquée : \n",
      "[0.96149265 0.03350268 0.00490761]\n",
      "Composantes principales : \n",
      "[[ 6.91530256e-01  7.17839107e-01 -5.17706454e-04 -7.03276614e-05\n",
      "  -1.19061030e-03  5.83095626e-03  8.03554134e-02  5.62370320e-05\n",
      "   4.56367148e-04  1.63599468e-04]\n",
      " [-7.17643324e-01  6.70475912e-01 -3.99681169e-03 -5.47535865e-04\n",
      "  -3.13415007e-03  4.31881591e-02  1.83188214e-01 -3.04585283e-04\n",
      "   7.97595986e-04  3.81774286e-04]\n",
      " [ 7.87526498e-02 -1.85746381e-01 -1.13229256e-02 -6.46737272e-03\n",
      "  -2.11245822e-02  4.01418913e-02  9.78214334e-01  5.04556712e-03\n",
      "   9.73446799e-03  6.71913596e-03]]\n"
     ]
    }
   ],
   "source": [
    "from sklearn.decomposition import PCA\n",
    "\n",
    "\n",
    "pca = PCA(n_components=3)\n",
    "pca.fit(mammals)\n",
    "\n",
    "print(\"Pourcentage de variance expliquée : \")\n",
    "print(pca.explained_variance_ratio_)\n",
    "print(\"Composantes principales : \")\n",
    "print(pca.components_)"
   ]
  },
  {
   "cell_type": "code",
   "execution_count": 3,
   "id": "c15a3fca-7c48-48d6-a3ba-cb3ef5a20f9d",
   "metadata": {},
   "outputs": [
    {
     "name": "stdout",
     "output_type": "stream",
     "text": [
      "[[ 8.40186499e+03 -8.98939153e+02 -3.38424363e+00]\n",
      " [-3.43104929e+02 -6.17373756e+01 -5.89229443e+01]]\n"
     ]
    }
   ],
   "source": [
    "mNt = pca.transform(mammals)\n",
    "print(mNt[:2,:])"
   ]
  },
  {
   "cell_type": "code",
   "execution_count": 4,
   "id": "5a4dbe9f-4606-4ef3-919d-de84df3f616d",
   "metadata": {},
   "outputs": [
    {
     "data": {
      "image/png": "[encoded data removed]",
      "text/plain": [
       "<Figure size 576x576 with 1 Axes>"
      ]
     },
     "metadata": {
      "needs_background": "light"
     },
     "output_type": "display_data"
    }
   ],
   "source": [
    "fig = plt.figure(figsize=(8, 8))\n",
    "ax = fig.add_subplot(111)\n",
    "for i in range(len(noms)):\n",
    "        x,y = mNt[i,0], mNt[i,1]\n",
    "        ax.scatter(x,y)\n",
    "        ax.text(x,y,noms[i])\n",
    "\n",
    "plt.show()"
   ]
  },
  {
   "cell_type": "code",
   "execution_count": null,
   "id": "cbd4f591-3654-4592-b7e9-6ae120ccbdda",
   "metadata": {},
   "outputs": [],
   "source": []
  },
  {
   "cell_type": "code",
   "execution_count": null,
   "id": "784a3c9b-0971-49eb-a1e7-95c278b5e7ae",
   "metadata": {},
   "outputs": [],
   "source": []
  }
 ],
 "metadata": {
  "kernelspec": {
   "display_name": "Python 3 (ipykernel)",
   "language": "python",
   "name": "python3"
  },
  "language_info": {
   "codemirror_mode": {
    "name": "ipython",
    "version": 3
   },
   "file_extension": ".py",
   "mimetype": "text/x-python",
   "name": "python",
   "nbconvert_exporter": "python",
   "pygments_lexer": "ipython3",
   "version": "3.9.12"
  }
 },
 "nbformat": 4,
 "nbformat_minor": 5
}
