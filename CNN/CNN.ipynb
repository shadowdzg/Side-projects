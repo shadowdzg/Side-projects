{
 "cells": [
  {
   "cell_type": "markdown",
   "id": "0e0ceb8f-23af-4f12-888c-df23b9c34943",
   "metadata": {},
   "source": [
    "# EXO2 MNIST-FASHION"
   ]
  },
  {
   "cell_type": "code",
   "execution_count": 2,
   "id": "a4d4e4b3-d151-4b4b-93d3-bf10edaace29",
   "metadata": {},
   "outputs": [],
   "source": [
    "import numpy as np # linear algebra\n",
    "import pandas as pd # data processing, CSV file I/O (e.g. pd.read_csv)\n",
    "import tensorflow as tf\n",
    "import numpy as np\n",
    "import matplotlib.pyplot as plt\n",
    "import pandas as pd\n",
    "from tensorflow.keras.models import Sequential\n",
    "from tensorflow.keras.layers import Conv2D, MaxPool2D, Flatten, Dense, Dropout"
   ]
  },
  {
   "cell_type": "code",
   "execution_count": 3,
   "id": "cd0241a2-131a-4ace-a27c-233632952915",
   "metadata": {},
   "outputs": [],
   "source": [
    "# importing the training and testing data\n",
    "train_data = pd.read_csv(\"fashion-mnist_train.csv\")\n",
    "test_data = pd.read_csv('fashion-mnist_test.csv')"
   ]
  },
  {
   "cell_type": "code",
   "execution_count": 4,
   "id": "6c11f157-6c31-40f8-a210-02b445025355",
   "metadata": {},
   "outputs": [],
   "source": [
    "# creating training and testing datasets with labels\n",
    "X_train = train_data.drop('label', axis = 1)\n",
    "y_train = train_data['label']\n",
    "\n",
    "X_test = test_data.drop('label', axis = 1)\n",
    "y_test = test_data['label']"
   ]
  },
  {
   "cell_type": "code",
   "execution_count": 5,
   "id": "4e135dca-6f83-4a77-a939-547b8be3f503",
   "metadata": {},
   "outputs": [],
   "source": [
    "# normalizing the data\n",
    "X_train = X_train / 255\n",
    "X_test = X_test / 255"
   ]
  },
  {
   "cell_type": "code",
   "execution_count": 6,
   "id": "87154932-e64f-49b8-b5c0-db7cb8f04819",
   "metadata": {},
   "outputs": [
    {
     "data": {
      "text/plain": [
       "<matplotlib.image.AxesImage at 0x268fa66ca90>"
      ]
     },
     "execution_count": 6,
     "metadata": {},
     "output_type": "execute_result"
    },
    {
     "data": {
      "image/png": "[encoded data removed]",
      "text/plain": [
       "<Figure size 432x288 with 1 Axes>"
      ]
     },
     "metadata": {
      "needs_background": "light"
     },
     "output_type": "display_data"
    }
   ],
   "source": [
    "plt.imshow(X_train.iloc[:1].values.reshape((28, 28)))"
   ]
  },
  {
   "cell_type": "code",
   "execution_count": 7,
   "id": "fe6f13a0-7d01-4f08-8772-b4572da917d3",
   "metadata": {},
   "outputs": [],
   "source": [
    "rows, columns = 28, 28\n",
    "X_train = X_train.values.reshape(X_train.shape[0], rows, columns, 1)\n",
    "X_test = X_test.values.reshape(X_test.shape[0], rows, columns, 1)"
   ]
  },
  {
   "cell_type": "code",
   "execution_count": 8,
   "id": "213107fa-570a-4535-bc05-612855f0026c",
   "metadata": {},
   "outputs": [],
   "source": [
    "CNN_model = Sequential()\n",
    "\n",
    "CNN_model.add(Conv2D(filters = 32, kernel_size = (3, 3), activation = 'relu', input_shape = (rows, columns, 1)))\n",
    "\n",
    "CNN_model.add(MaxPool2D(pool_size = (2, 2)))\n",
    "\n",
    "\n",
    "CNN_model.add(Conv2D(filters = 64, kernel_size = (3, 3), activation = 'relu'))\n",
    "\n",
    "CNN_model.add(MaxPool2D(pool_size = (2, 2)))\n",
    "\n",
    "# convolutional layer - 3\n",
    "CNN_model.add(Conv2D(filters = 128, kernel_size = (3, 3), activation = 'relu'))\n",
    "# Max pooling Layer - 3\n",
    "CNN_model.add(MaxPool2D(pool_size = (2, 2)))\n",
    "\n",
    "# flatten layer\n",
    "CNN_model.add(Flatten())\n",
    "# fully connected layer 1\n",
    "CNN_model.add(Dense(units = 128, activation = 'relu'))\n",
    "\n",
    "# output layer\n",
    "CNN_model.add(Dense(units = len(set(y_train)), activation = 'softmax'))\n",
    "# compiling the model\n",
    "CNN_model.compile(optimizer = 'adam', loss = 'sparse_categorical_crossentropy', metrics = ['accuracy'])"
   ]
  },
  {
   "cell_type": "code",
   "execution_count": 9,
   "id": "5894042f-db5c-4c14-b1f4-185d0d80e1e4",
   "metadata": {},
   "outputs": [
    {
     "name": "stdout",
     "output_type": "stream",
     "text": [
      "Epoch 1/50\n",
      "1500/1500 [==============================] - 16s 10ms/step - loss: 0.5982 - accuracy: 0.7818 - val_loss: 0.4643 - val_accuracy: 0.8266\n",
      "Epoch 2/50\n",
      "1500/1500 [==============================] - 16s 11ms/step - loss: 0.4028 - accuracy: 0.8515 - val_loss: 0.3777 - val_accuracy: 0.8623\n",
      "Epoch 3/50\n",
      "1500/1500 [==============================] - 17s 11ms/step - loss: 0.3440 - accuracy: 0.8730 - val_loss: 0.3399 - val_accuracy: 0.8784\n",
      "Epoch 4/50\n",
      "1500/1500 [==============================] - 17s 11ms/step - loss: 0.3060 - accuracy: 0.8858 - val_loss: 0.3265 - val_accuracy: 0.8777\n",
      "Epoch 5/50\n",
      "1500/1500 [==============================] - 17s 11ms/step - loss: 0.2752 - accuracy: 0.8971 - val_loss: 0.3316 - val_accuracy: 0.8786\n",
      "Epoch 6/50\n",
      "1500/1500 [==============================] - 17s 11ms/step - loss: 0.2498 - accuracy: 0.9055 - val_loss: 0.3186 - val_accuracy: 0.8910\n",
      "Epoch 7/50\n",
      "1500/1500 [==============================] - 17s 11ms/step - loss: 0.2270 - accuracy: 0.9156 - val_loss: 0.2908 - val_accuracy: 0.8992\n",
      "Epoch 8/50\n",
      "1500/1500 [==============================] - 17s 11ms/step - loss: 0.2082 - accuracy: 0.9218 - val_loss: 0.3284 - val_accuracy: 0.8896\n",
      "Epoch 9/50\n",
      "1500/1500 [==============================] - 17s 11ms/step - loss: 0.1900 - accuracy: 0.9282 - val_loss: 0.3095 - val_accuracy: 0.8986\n",
      "Epoch 10/50\n",
      "1500/1500 [==============================] - 17s 11ms/step - loss: 0.1741 - accuracy: 0.9342 - val_loss: 0.3093 - val_accuracy: 0.8952\n",
      "Epoch 11/50\n",
      "1500/1500 [==============================] - 17s 11ms/step - loss: 0.1604 - accuracy: 0.9395 - val_loss: 0.3465 - val_accuracy: 0.8906\n",
      "Epoch 12/50\n",
      "1500/1500 [==============================] - 17s 11ms/step - loss: 0.1451 - accuracy: 0.9446 - val_loss: 0.3669 - val_accuracy: 0.8905\n",
      "Epoch 13/50\n",
      "1500/1500 [==============================] - 17s 11ms/step - loss: 0.1367 - accuracy: 0.9481 - val_loss: 0.3649 - val_accuracy: 0.8957\n",
      "Epoch 14/50\n",
      "1500/1500 [==============================] - 17s 11ms/step - loss: 0.1236 - accuracy: 0.9528 - val_loss: 0.3920 - val_accuracy: 0.8937\n",
      "Epoch 15/50\n",
      "1500/1500 [==============================] - 17s 11ms/step - loss: 0.1168 - accuracy: 0.9551 - val_loss: 0.4193 - val_accuracy: 0.8875\n",
      "Epoch 16/50\n",
      "1500/1500 [==============================] - 17s 11ms/step - loss: 0.1082 - accuracy: 0.9583 - val_loss: 0.4542 - val_accuracy: 0.8882\n",
      "Epoch 17/50\n",
      "1500/1500 [==============================] - 17s 11ms/step - loss: 0.0986 - accuracy: 0.9621 - val_loss: 0.4203 - val_accuracy: 0.8889\n",
      "Epoch 18/50\n",
      "1500/1500 [==============================] - 17s 11ms/step - loss: 0.0949 - accuracy: 0.9640 - val_loss: 0.4316 - val_accuracy: 0.8963\n",
      "Epoch 19/50\n",
      "1500/1500 [==============================] - 17s 11ms/step - loss: 0.0880 - accuracy: 0.9669 - val_loss: 0.4860 - val_accuracy: 0.8939\n",
      "Epoch 20/50\n",
      "1500/1500 [==============================] - 17s 11ms/step - loss: 0.0787 - accuracy: 0.9705 - val_loss: 0.4892 - val_accuracy: 0.8869\n",
      "Epoch 21/50\n",
      "1500/1500 [==============================] - 17s 11ms/step - loss: 0.0778 - accuracy: 0.9708 - val_loss: 0.5402 - val_accuracy: 0.8888\n",
      "Epoch 22/50\n",
      "1500/1500 [==============================] - 17s 11ms/step - loss: 0.0731 - accuracy: 0.9716 - val_loss: 0.5259 - val_accuracy: 0.8908\n",
      "Epoch 23/50\n",
      "1500/1500 [==============================] - 17s 11ms/step - loss: 0.0659 - accuracy: 0.9750 - val_loss: 0.5693 - val_accuracy: 0.8875\n",
      "Epoch 24/50\n",
      "1500/1500 [==============================] - 17s 11ms/step - loss: 0.0670 - accuracy: 0.9747 - val_loss: 0.5992 - val_accuracy: 0.8834\n",
      "Epoch 25/50\n",
      "1500/1500 [==============================] - 17s 11ms/step - loss: 0.0623 - accuracy: 0.9761 - val_loss: 0.6043 - val_accuracy: 0.8894\n",
      "Epoch 26/50\n",
      "1500/1500 [==============================] - 17s 11ms/step - loss: 0.0602 - accuracy: 0.9779 - val_loss: 0.6197 - val_accuracy: 0.8842\n",
      "Epoch 27/50\n",
      "1500/1500 [==============================] - 17s 11ms/step - loss: 0.0540 - accuracy: 0.9794 - val_loss: 0.6235 - val_accuracy: 0.8923\n",
      "Epoch 28/50\n",
      "1500/1500 [==============================] - 17s 11ms/step - loss: 0.0555 - accuracy: 0.9790 - val_loss: 0.7350 - val_accuracy: 0.8803\n",
      "Epoch 29/50\n",
      "1500/1500 [==============================] - 17s 11ms/step - loss: 0.0553 - accuracy: 0.9800 - val_loss: 0.7121 - val_accuracy: 0.8892\n",
      "Epoch 30/50\n",
      "1500/1500 [==============================] - 17s 11ms/step - loss: 0.0491 - accuracy: 0.9818 - val_loss: 0.6701 - val_accuracy: 0.8927\n",
      "Epoch 31/50\n",
      "1500/1500 [==============================] - 17s 11ms/step - loss: 0.0534 - accuracy: 0.9801 - val_loss: 0.7080 - val_accuracy: 0.8823\n",
      "Epoch 32/50\n",
      "1500/1500 [==============================] - 17s 11ms/step - loss: 0.0455 - accuracy: 0.9827 - val_loss: 0.8139 - val_accuracy: 0.8905\n",
      "Epoch 33/50\n",
      "1500/1500 [==============================] - 17s 11ms/step - loss: 0.0505 - accuracy: 0.9824 - val_loss: 0.6902 - val_accuracy: 0.8898\n",
      "Epoch 34/50\n",
      "1500/1500 [==============================] - 17s 11ms/step - loss: 0.0448 - accuracy: 0.9841 - val_loss: 0.7456 - val_accuracy: 0.8905\n",
      "Epoch 35/50\n",
      "1500/1500 [==============================] - 17s 11ms/step - loss: 0.0444 - accuracy: 0.9832 - val_loss: 0.7467 - val_accuracy: 0.8929\n",
      "Epoch 36/50\n",
      "1500/1500 [==============================] - 17s 11ms/step - loss: 0.0446 - accuracy: 0.9842 - val_loss: 0.7784 - val_accuracy: 0.8918\n",
      "Epoch 37/50\n",
      "1500/1500 [==============================] - 17s 11ms/step - loss: 0.0422 - accuracy: 0.9852 - val_loss: 0.7759 - val_accuracy: 0.8852\n",
      "Epoch 38/50\n",
      "1500/1500 [==============================] - 17s 11ms/step - loss: 0.0379 - accuracy: 0.9864 - val_loss: 0.8099 - val_accuracy: 0.8868\n",
      "Epoch 39/50\n",
      "1500/1500 [==============================] - 17s 11ms/step - loss: 0.0402 - accuracy: 0.9854 - val_loss: 0.7803 - val_accuracy: 0.8812\n",
      "Epoch 40/50\n",
      "1500/1500 [==============================] - 17s 11ms/step - loss: 0.0419 - accuracy: 0.9851 - val_loss: 0.8084 - val_accuracy: 0.8935\n",
      "Epoch 41/50\n",
      "1500/1500 [==============================] - 17s 11ms/step - loss: 0.0379 - accuracy: 0.9861 - val_loss: 0.8615 - val_accuracy: 0.8863\n",
      "Epoch 42/50\n",
      "1500/1500 [==============================] - 17s 11ms/step - loss: 0.0349 - accuracy: 0.9875 - val_loss: 0.8416 - val_accuracy: 0.8906\n",
      "Epoch 43/50\n",
      "1500/1500 [==============================] - 17s 11ms/step - loss: 0.0411 - accuracy: 0.9852 - val_loss: 0.8490 - val_accuracy: 0.8824\n",
      "Epoch 44/50\n",
      "1500/1500 [==============================] - 17s 11ms/step - loss: 0.0366 - accuracy: 0.9873 - val_loss: 0.8126 - val_accuracy: 0.8879\n",
      "Epoch 45/50\n",
      "1500/1500 [==============================] - 17s 11ms/step - loss: 0.0339 - accuracy: 0.9883 - val_loss: 0.8807 - val_accuracy: 0.8839\n",
      "Epoch 46/50\n",
      "1500/1500 [==============================] - 17s 11ms/step - loss: 0.0367 - accuracy: 0.9870 - val_loss: 0.9194 - val_accuracy: 0.8861\n",
      "Epoch 47/50\n",
      "1500/1500 [==============================] - 17s 11ms/step - loss: 0.0395 - accuracy: 0.9867 - val_loss: 0.8835 - val_accuracy: 0.8896\n",
      "Epoch 48/50\n",
      "1500/1500 [==============================] - 17s 11ms/step - loss: 0.0343 - accuracy: 0.9882 - val_loss: 0.8520 - val_accuracy: 0.8884\n",
      "Epoch 49/50\n",
      "1500/1500 [==============================] - 17s 11ms/step - loss: 0.0332 - accuracy: 0.9892 - val_loss: 0.8989 - val_accuracy: 0.8853\n",
      "Epoch 50/50\n",
      "1500/1500 [==============================] - 17s 11ms/step - loss: 0.0330 - accuracy: 0.9882 - val_loss: 0.9061 - val_accuracy: 0.8903\n"
     ]
    }
   ],
   "source": [
    "epochs = 50\n",
    "fitted_model = CNN_model.fit(X_train, y_train, epochs = epochs, verbose = 1, validation_split = 0.2)"
   ]
  },
  {
   "cell_type": "code",
   "execution_count": 10,
   "id": "0e671160-cebd-49dc-8770-b72ea466569d",
   "metadata": {},
   "outputs": [
    {
     "name": "stdout",
     "output_type": "stream",
     "text": [
      "Model: \"sequential\"\n",
      "_________________________________________________________________\n",
      " Layer (type)                Output Shape              Param #   \n",
      "=================================================================\n",
      " conv2d (Conv2D)             (None, 26, 26, 32)        320       \n",
      "                                                                 \n",
      " max_pooling2d (MaxPooling2D  (None, 13, 13, 32)       0         \n",
      " )                                                               \n",
      "                                                                 \n",
      " conv2d_1 (Conv2D)           (None, 11, 11, 64)        18496     \n",
      "                                                                 \n",
      " max_pooling2d_1 (MaxPooling  (None, 5, 5, 64)         0         \n",
      " 2D)                                                             \n",
      "                                                                 \n",
      " conv2d_2 (Conv2D)           (None, 3, 3, 128)         73856     \n",
      "                                                                 \n",
      " max_pooling2d_2 (MaxPooling  (None, 1, 1, 128)        0         \n",
      " 2D)                                                             \n",
      "                                                                 \n",
      " flatten (Flatten)           (None, 128)               0         \n",
      "                                                                 \n",
      " dense (Dense)               (None, 128)               16512     \n",
      "                                                                 \n",
      " dense_1 (Dense)             (None, 10)                1290      \n",
      "                                                                 \n",
      "=================================================================\n",
      "Total params: 110,474\n",
      "Trainable params: 110,474\n",
      "Non-trainable params: 0\n",
      "_________________________________________________________________\n"
     ]
    }
   ],
   "source": [
    "# summary of the model\n",
    "CNN_model.summary()"
   ]
  },
  {
   "cell_type": "code",
   "execution_count": 12,
   "id": "dd387fa4-6070-424b-8b14-8deea1a8e598",
   "metadata": {},
   "outputs": [],
   "source": [
    "CNN_model2 = Sequential()\n",
    "CNN_model2.add(Conv2D(filters = 32, kernel_size = (3, 3), activation = 'relu', input_shape = (rows, columns, 1)))\n",
    "\n",
    "CNN_model2.add(MaxPool2D(pool_size = (2, 2)))\n",
    "\n",
    "CNN_model2.add(Dropout(0.2))\n",
    "\n",
    "CNN_model2.add(Conv2D(filters = 64, kernel_size = (3, 3), activation = 'relu'))\n",
    "\n",
    "CNN_model2.add(MaxPool2D(pool_size = (2, 2)))\n",
    "\n",
    "CNN_model2.add(Dropout(0.2))\n",
    "\n",
    "CNN_model2.add(Conv2D(filters = 128, kernel_size = (3, 3), activation = 'relu'))\n",
    "\n",
    "CNN_model2.add(MaxPool2D(pool_size = (2, 2)))\n",
    "\n",
    "CNN_model2.add(Dropout(0.2))\n",
    "\n",
    "CNN_model2.add(Flatten())\n",
    "\n",
    "CNN_model2.add(Dense(units = 128, activation = 'relu'))\n",
    "\n",
    "CNN_model2.add(Dropout(0.2))\n",
    "\n",
    "CNN_model2.add(Dense(units = len(set(y_train)), activation = 'softmax'))\n",
    "\n",
    "CNN_model2.compile(optimizer = 'adam', loss = 'sparse_categorical_crossentropy', metrics = ['accuracy'])"
   ]
  },
  {
   "cell_type": "code",
   "execution_count": 13,
   "id": "4ce56aae-e101-4cb9-aa87-d65e6a9edda9",
   "metadata": {},
   "outputs": [
    {
     "name": "stdout",
     "output_type": "stream",
     "text": [
      "Epoch 1/50\n",
      "1500/1500 [==============================] - 15s 10ms/step - loss: 0.0320 - accuracy: 0.9894 - val_loss: 1.0313 - val_accuracy: 0.8757\n",
      "Epoch 2/50\n",
      "1500/1500 [==============================] - 15s 10ms/step - loss: 0.0325 - accuracy: 0.9890 - val_loss: 0.9620 - val_accuracy: 0.8857\n",
      "Epoch 3/50\n",
      "1500/1500 [==============================] - 17s 11ms/step - loss: 0.0341 - accuracy: 0.9885 - val_loss: 0.8982 - val_accuracy: 0.8903\n",
      "Epoch 4/50\n",
      "1500/1500 [==============================] - 17s 11ms/step - loss: 0.0320 - accuracy: 0.9890 - val_loss: 0.8590 - val_accuracy: 0.8882\n",
      "Epoch 5/50\n",
      "1500/1500 [==============================] - 17s 11ms/step - loss: 0.0325 - accuracy: 0.9889 - val_loss: 0.9292 - val_accuracy: 0.8876\n",
      "Epoch 6/50\n",
      "1500/1500 [==============================] - 17s 11ms/step - loss: 0.0297 - accuracy: 0.9902 - val_loss: 0.9796 - val_accuracy: 0.8842\n",
      "Epoch 7/50\n",
      "1500/1500 [==============================] - 17s 11ms/step - loss: 0.0290 - accuracy: 0.9899 - val_loss: 0.9651 - val_accuracy: 0.8890\n",
      "Epoch 8/50\n",
      "1500/1500 [==============================] - 17s 11ms/step - loss: 0.0311 - accuracy: 0.9897 - val_loss: 0.9598 - val_accuracy: 0.8835\n",
      "Epoch 9/50\n",
      "1500/1500 [==============================] - 17s 11ms/step - loss: 0.0321 - accuracy: 0.9896 - val_loss: 1.0194 - val_accuracy: 0.8881\n",
      "Epoch 10/50\n",
      "1500/1500 [==============================] - 17s 11ms/step - loss: 0.0290 - accuracy: 0.9904 - val_loss: 0.9616 - val_accuracy: 0.8872\n",
      "Epoch 11/50\n",
      "1500/1500 [==============================] - 17s 11ms/step - loss: 0.0287 - accuracy: 0.9905 - val_loss: 0.9876 - val_accuracy: 0.8832\n",
      "Epoch 12/50\n",
      "1500/1500 [==============================] - 17s 11ms/step - loss: 0.0316 - accuracy: 0.9896 - val_loss: 0.9692 - val_accuracy: 0.8906\n",
      "Epoch 13/50\n",
      "1500/1500 [==============================] - 17s 11ms/step - loss: 0.0275 - accuracy: 0.9908 - val_loss: 1.1124 - val_accuracy: 0.8840\n",
      "Epoch 14/50\n",
      "1500/1500 [==============================] - 17s 11ms/step - loss: 0.0372 - accuracy: 0.9886 - val_loss: 0.9926 - val_accuracy: 0.8828\n",
      "Epoch 15/50\n",
      "1500/1500 [==============================] - 17s 11ms/step - loss: 0.0255 - accuracy: 0.9916 - val_loss: 1.0687 - val_accuracy: 0.8845\n",
      "Epoch 16/50\n",
      "1500/1500 [==============================] - 17s 11ms/step - loss: 0.0313 - accuracy: 0.9896 - val_loss: 1.1735 - val_accuracy: 0.8831\n",
      "Epoch 17/50\n",
      "1500/1500 [==============================] - 17s 11ms/step - loss: 0.0289 - accuracy: 0.9902 - val_loss: 1.0317 - val_accuracy: 0.8840\n",
      "Epoch 18/50\n",
      "1500/1500 [==============================] - 17s 11ms/step - loss: 0.0270 - accuracy: 0.9913 - val_loss: 1.0903 - val_accuracy: 0.8818\n",
      "Epoch 19/50\n",
      "1500/1500 [==============================] - 18s 12ms/step - loss: 0.0294 - accuracy: 0.9908 - val_loss: 1.1109 - val_accuracy: 0.8909\n",
      "Epoch 20/50\n",
      "1500/1500 [==============================] - 18s 12ms/step - loss: 0.0254 - accuracy: 0.9921 - val_loss: 1.0521 - val_accuracy: 0.8850\n",
      "Epoch 21/50\n",
      "1500/1500 [==============================] - 19s 13ms/step - loss: 0.0236 - accuracy: 0.9928 - val_loss: 1.1187 - val_accuracy: 0.8852\n",
      "Epoch 22/50\n",
      "1500/1500 [==============================] - 17s 12ms/step - loss: 0.0348 - accuracy: 0.9890 - val_loss: 1.0849 - val_accuracy: 0.8876\n",
      "Epoch 23/50\n",
      "1500/1500 [==============================] - 17s 11ms/step - loss: 0.0212 - accuracy: 0.9931 - val_loss: 1.0680 - val_accuracy: 0.8841\n",
      "Epoch 24/50\n",
      "1500/1500 [==============================] - 17s 11ms/step - loss: 0.0308 - accuracy: 0.9904 - val_loss: 1.2194 - val_accuracy: 0.8842\n",
      "Epoch 25/50\n",
      "1500/1500 [==============================] - 17s 11ms/step - loss: 0.0208 - accuracy: 0.9927 - val_loss: 1.2177 - val_accuracy: 0.8854\n",
      "Epoch 26/50\n",
      "1500/1500 [==============================] - 17s 11ms/step - loss: 0.0310 - accuracy: 0.9902 - val_loss: 1.0844 - val_accuracy: 0.8859\n",
      "Epoch 27/50\n",
      "1500/1500 [==============================] - 17s 12ms/step - loss: 0.0265 - accuracy: 0.9918 - val_loss: 1.1913 - val_accuracy: 0.8821\n",
      "Epoch 28/50\n",
      "1500/1500 [==============================] - 17s 11ms/step - loss: 0.0332 - accuracy: 0.9901 - val_loss: 1.1147 - val_accuracy: 0.8879\n",
      "Epoch 29/50\n",
      "1500/1500 [==============================] - 17s 11ms/step - loss: 0.0315 - accuracy: 0.9900 - val_loss: 1.1185 - val_accuracy: 0.8860\n",
      "Epoch 30/50\n",
      "1500/1500 [==============================] - 17s 11ms/step - loss: 0.0245 - accuracy: 0.9929 - val_loss: 1.2484 - val_accuracy: 0.8850\n",
      "Epoch 31/50\n",
      "1500/1500 [==============================] - 17s 12ms/step - loss: 0.0218 - accuracy: 0.9929 - val_loss: 1.2478 - val_accuracy: 0.8841\n",
      "Epoch 32/50\n",
      "1500/1500 [==============================] - 20s 13ms/step - loss: 0.0245 - accuracy: 0.9921 - val_loss: 1.2427 - val_accuracy: 0.8827\n",
      "Epoch 33/50\n",
      "1500/1500 [==============================] - 18s 12ms/step - loss: 0.0248 - accuracy: 0.9922 - val_loss: 1.2495 - val_accuracy: 0.8868\n",
      "Epoch 34/50\n",
      "1500/1500 [==============================] - 17s 11ms/step - loss: 0.0274 - accuracy: 0.9914 - val_loss: 1.1400 - val_accuracy: 0.8867\n",
      "Epoch 35/50\n",
      "1500/1500 [==============================] - 19s 12ms/step - loss: 0.0172 - accuracy: 0.9950 - val_loss: 1.2160 - val_accuracy: 0.8835\n",
      "Epoch 36/50\n",
      "1500/1500 [==============================] - 20s 13ms/step - loss: 0.0364 - accuracy: 0.9888 - val_loss: 1.2007 - val_accuracy: 0.8892\n",
      "Epoch 37/50\n",
      "1500/1500 [==============================] - 21s 14ms/step - loss: 0.0205 - accuracy: 0.9940 - val_loss: 1.3117 - val_accuracy: 0.8838\n",
      "Epoch 38/50\n",
      "1500/1500 [==============================] - 20s 13ms/step - loss: 0.0229 - accuracy: 0.9926 - val_loss: 1.2371 - val_accuracy: 0.8857\n",
      "Epoch 39/50\n",
      "1500/1500 [==============================] - 18s 12ms/step - loss: 0.0256 - accuracy: 0.9919 - val_loss: 1.3032 - val_accuracy: 0.8866\n",
      "Epoch 40/50\n",
      "1500/1500 [==============================] - 17s 12ms/step - loss: 0.0250 - accuracy: 0.9924 - val_loss: 1.2632 - val_accuracy: 0.8883\n",
      "Epoch 41/50\n",
      "1500/1500 [==============================] - 17s 12ms/step - loss: 0.0270 - accuracy: 0.9918 - val_loss: 1.1800 - val_accuracy: 0.8899\n",
      "Epoch 42/50\n",
      "1500/1500 [==============================] - 17s 12ms/step - loss: 0.0256 - accuracy: 0.9926 - val_loss: 1.2890 - val_accuracy: 0.8876\n",
      "Epoch 43/50\n",
      "1500/1500 [==============================] - 17s 12ms/step - loss: 0.0195 - accuracy: 0.9937 - val_loss: 1.3276 - val_accuracy: 0.8809\n",
      "Epoch 44/50\n",
      "1500/1500 [==============================] - 17s 11ms/step - loss: 0.0248 - accuracy: 0.9922 - val_loss: 1.3254 - val_accuracy: 0.8863\n",
      "Epoch 45/50\n",
      "1500/1500 [==============================] - 17s 12ms/step - loss: 0.0227 - accuracy: 0.9929 - val_loss: 1.2514 - val_accuracy: 0.8923\n",
      "Epoch 46/50\n",
      "1500/1500 [==============================] - 17s 12ms/step - loss: 0.0257 - accuracy: 0.9918 - val_loss: 1.3812 - val_accuracy: 0.8809\n",
      "Epoch 47/50\n",
      "1500/1500 [==============================] - 17s 12ms/step - loss: 0.0262 - accuracy: 0.9930 - val_loss: 1.2500 - val_accuracy: 0.8898\n",
      "Epoch 48/50\n",
      "1500/1500 [==============================] - 18s 12ms/step - loss: 0.0247 - accuracy: 0.9927 - val_loss: 1.2075 - val_accuracy: 0.8863\n",
      "Epoch 49/50\n",
      "1500/1500 [==============================] - 19s 13ms/step - loss: 0.0221 - accuracy: 0.9931 - val_loss: 1.3365 - val_accuracy: 0.8887\n",
      "Epoch 50/50\n",
      "1500/1500 [==============================] - 17s 12ms/step - loss: 0.0243 - accuracy: 0.9929 - val_loss: 1.3252 - val_accuracy: 0.8846\n"
     ]
    }
   ],
   "source": [
    "epochs = 50\n",
    "fitted_model = CNN_model.fit(X_train, y_train, epochs = epochs, verbose = 1, validation_split = 0.2)"
   ]
  },
  {
   "cell_type": "markdown",
   "id": "a6ab5637-4bfc-4010-a8ef-605f5c0f5557",
   "metadata": {},
   "source": [
    "# EXO3 RICE IMAGE"
   ]
  },
  {
   "cell_type": "code",
   "execution_count": null,
   "id": "60e94d09-9364-449f-8df1-b99fb403937f",
   "metadata": {},
   "outputs": [],
   "source": []
  }
 ],
 "metadata": {
  "kernelspec": {
   "display_name": "Python 3 (ipykernel)",
   "language": "python",
   "name": "python3"
  },
  "language_info": {
   "codemirror_mode": {
    "name": "ipython",
    "version": 3
   },
   "file_extension": ".py",
   "mimetype": "text/x-python",
   "name": "python",
   "nbconvert_exporter": "python",
   "pygments_lexer": "ipython3",
   "version": "3.9.12"
  }
 },
 "nbformat": 4,
 "nbformat_minor": 5
}
