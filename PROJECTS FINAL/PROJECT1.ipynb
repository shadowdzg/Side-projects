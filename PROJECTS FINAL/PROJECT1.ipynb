{
 "cells": [
  {
   "cell_type": "code",
   "execution_count": 33,
   "id": "0ca00a82-919e-44ad-9831-0aca858338ff",
   "metadata": {},
   "outputs": [],
   "source": [
    "import pandas as pd\n",
    "import numpy as np\n",
    "import matplotlib.pyplot as plt\n",
    "import matplotlib.image as mpimg\n",
    "import seaborn as sns\n",
    "\n",
    "np.random.seed(2)\n",
    "\n",
    "from sklearn.model_selection import train_test_split\n",
    "from sklearn.metrics import confusion_matrix\n",
    "import itertools\n",
    "\n",
    "from keras.utils.np_utils import to_categorical # convert to one-hot-encoding\n",
    "from keras.models import Sequential\n",
    "from keras.layers import Dense, Dropout, Flatten, Conv2D, MaxPool2D\n",
    "from keras.optimizers import RMSprop\n",
    "from keras.preprocessing.image import ImageDataGenerator\n",
    "from keras.callbacks import ReduceLROnPlateau\n"
   ]
  },
  {
   "cell_type": "code",
   "execution_count": 4,
   "id": "ea8cb3f2-b144-41bc-8345-e0630702bb1a",
   "metadata": {},
   "outputs": [],
   "source": [
    "train = pd.read_csv(\"train.csv\")\n",
    "test = pd.read_csv(\"test.csv\")"
   ]
  },
  {
   "cell_type": "code",
   "execution_count": 6,
   "id": "8473413a-a452-4642-81a3-75b59c5612f4",
   "metadata": {},
   "outputs": [],
   "source": [
    "Y_train = train[\"label\"]\n",
    "\n",
    "# Drop 'label' column\n",
    "X_train = train.drop(labels = [\"label\"],axis = 1) \n"
   ]
  },
  {
   "cell_type": "code",
   "execution_count": 7,
   "id": "c44d06e2-c760-4d6c-8266-ee60dedfc893",
   "metadata": {},
   "outputs": [],
   "source": [
    "# Normalize the data\n",
    "X_train = X_train / 255.0\n",
    "test = test / 255.0"
   ]
  },
  {
   "cell_type": "code",
   "execution_count": 8,
   "id": "6ee35732-3318-42e1-9f69-72b0535ae410",
   "metadata": {},
   "outputs": [],
   "source": [
    "# Reshape image in 3 dimensions (height = 28px, width = 28px , canal = 1)\n",
    "X_train = X_train.values.reshape(-1,28,28,1)\n",
    "test = test.values.reshape(-1,28,28,1)"
   ]
  },
  {
   "cell_type": "code",
   "execution_count": 9,
   "id": "c2f033e2-67bc-4f96-9dd7-ee7fada3da94",
   "metadata": {},
   "outputs": [],
   "source": [
    "# Encode labels to one hot vectors (ex : 2 -> [0,0,1,0,0,0,0,0,0,0])\n",
    "Y_train = to_categorical(Y_train, num_classes = 10)"
   ]
  },
  {
   "cell_type": "code",
   "execution_count": 10,
   "id": "2148ffcc-8fa5-4269-924a-a3f75b68b015",
   "metadata": {},
   "outputs": [],
   "source": [
    "random_seed = 2\n",
    "# Split the train and the validation set for the fitting\n",
    "X_train, X_val, Y_train, Y_val = train_test_split(X_train, Y_train, test_size = 0.1, random_state=random_seed)"
   ]
  },
  {
   "cell_type": "code",
   "execution_count": 21,
   "id": "42475fc4-f8ce-491d-922a-4fc82fd73609",
   "metadata": {},
   "outputs": [],
   "source": [
    "# Set the non convolution model\n",
    "\n",
    "model = Sequential()\n",
    "model.add(Dense(4, input_shape = (28,28,1), activation='relu'))\n",
    "\n",
    "model.add(Dense(32, activation ='relu'))\n",
    "model.add(Dense(32, activation ='relu'))\n",
    "\n",
    "model.add(Dropout(0.25))\n",
    "\n",
    "\n",
    "model.add(Dense(64, activation ='relu'))\n",
    "model.add(Dense(64, activation ='relu'))\n",
    "\n",
    "model.add(Dropout(0.25))\n",
    "\n",
    "\n",
    "model.add(Flatten())\n",
    "model.add(Dense(256, activation = \"relu\"))\n",
    "model.add(Dropout(0.5))\n",
    "model.add(Dense(10, activation = \"softmax\"))"
   ]
  },
  {
   "cell_type": "code",
   "execution_count": 22,
   "id": "95129c8e-de08-4211-b445-4bc3b413da41",
   "metadata": {},
   "outputs": [],
   "source": [
    "# Compile the model\n",
    "model.compile(optimizer = 'adam' , loss = \"categorical_crossentropy\", metrics=[\"accuracy\"])"
   ]
  },
  {
   "cell_type": "code",
   "execution_count": 28,
   "id": "d49dafe3-9f12-4f15-a362-ad95f01ebbb8",
   "metadata": {},
   "outputs": [
    {
     "name": "stdout",
     "output_type": "stream",
     "text": [
      "Epoch 1/20\n",
      "148/148 [==============================] - 48s 327ms/step - loss: 0.0872 - accuracy: 0.9714 - val_loss: 0.0895 - val_accuracy: 0.9740\n",
      "Epoch 2/20\n",
      "148/148 [==============================] - 49s 332ms/step - loss: 0.0737 - accuracy: 0.9772 - val_loss: 0.0882 - val_accuracy: 0.9736\n",
      "Epoch 3/20\n",
      "148/148 [==============================] - 50s 335ms/step - loss: 0.0684 - accuracy: 0.9787 - val_loss: 0.0844 - val_accuracy: 0.9748\n",
      "Epoch 4/20\n",
      "148/148 [==============================] - 49s 333ms/step - loss: 0.0680 - accuracy: 0.9787 - val_loss: 0.0835 - val_accuracy: 0.9752\n",
      "Epoch 5/20\n",
      "148/148 [==============================] - 49s 334ms/step - loss: 0.0643 - accuracy: 0.9802 - val_loss: 0.0804 - val_accuracy: 0.9757\n",
      "Epoch 6/20\n",
      "148/148 [==============================] - 50s 338ms/step - loss: 0.0581 - accuracy: 0.9810 - val_loss: 0.0838 - val_accuracy: 0.9762\n",
      "Epoch 7/20\n",
      "148/148 [==============================] - 48s 325ms/step - loss: 0.0571 - accuracy: 0.9816 - val_loss: 0.0818 - val_accuracy: 0.9755\n",
      "Epoch 8/20\n",
      "148/148 [==============================] - 48s 327ms/step - loss: 0.0533 - accuracy: 0.9834 - val_loss: 0.0817 - val_accuracy: 0.9757\n",
      "Epoch 9/20\n",
      "148/148 [==============================] - 49s 330ms/step - loss: 0.0512 - accuracy: 0.9835 - val_loss: 0.0809 - val_accuracy: 0.9769\n",
      "Epoch 10/20\n",
      "148/148 [==============================] - 48s 326ms/step - loss: 0.0481 - accuracy: 0.9834 - val_loss: 0.0818 - val_accuracy: 0.9769\n",
      "Epoch 11/20\n",
      "148/148 [==============================] - 48s 327ms/step - loss: 0.0453 - accuracy: 0.9851 - val_loss: 0.0840 - val_accuracy: 0.9767\n",
      "Epoch 12/20\n",
      "148/148 [==============================] - 48s 326ms/step - loss: 0.0438 - accuracy: 0.9851 - val_loss: 0.0836 - val_accuracy: 0.9762\n",
      "Epoch 13/20\n",
      "148/148 [==============================] - 48s 327ms/step - loss: 0.0433 - accuracy: 0.9866 - val_loss: 0.0826 - val_accuracy: 0.9779\n",
      "Epoch 14/20\n",
      "148/148 [==============================] - 48s 327ms/step - loss: 0.0391 - accuracy: 0.9864 - val_loss: 0.0820 - val_accuracy: 0.9781\n",
      "Epoch 15/20\n",
      "148/148 [==============================] - 48s 326ms/step - loss: 0.0379 - accuracy: 0.9877 - val_loss: 0.0839 - val_accuracy: 0.9783\n",
      "Epoch 16/20\n",
      "148/148 [==============================] - 50s 336ms/step - loss: 0.0341 - accuracy: 0.9885 - val_loss: 0.0861 - val_accuracy: 0.9786\n",
      "Epoch 17/20\n",
      "148/148 [==============================] - 50s 337ms/step - loss: 0.0332 - accuracy: 0.9893 - val_loss: 0.0859 - val_accuracy: 0.9786\n",
      "Epoch 18/20\n",
      "148/148 [==============================] - 50s 335ms/step - loss: 0.0319 - accuracy: 0.9893 - val_loss: 0.0946 - val_accuracy: 0.9776\n",
      "Epoch 19/20\n",
      "148/148 [==============================] - 49s 334ms/step - loss: 0.0307 - accuracy: 0.9898 - val_loss: 0.0908 - val_accuracy: 0.9764\n",
      "Epoch 20/20\n",
      "148/148 [==============================] - 49s 332ms/step - loss: 0.0291 - accuracy: 0.9900 - val_loss: 0.0926 - val_accuracy: 0.9793\n"
     ]
    }
   ],
   "source": [
    "history = model.fit(X_train, Y_train, batch_size=256, epochs=20,validation_data = (X_val, Y_val))"
   ]
  },
  {
   "cell_type": "code",
   "execution_count": 29,
   "id": "e70c2c5f-701f-4cbc-a65b-ce3754f84440",
   "metadata": {},
   "outputs": [],
   "source": [
    "# Set the CNN model \n",
    "# my CNN architechture is In -> [[Conv2D->relu]*2 -> MaxPool2D -> Dropout]*2 -> Flatten -> Dense -> Dropout -> Out\n",
    "\n",
    "model2 = Sequential()\n",
    "\n",
    "model2.add(Conv2D(filters = 32, kernel_size = (5,5),padding = 'Same', \n",
    "                 activation ='relu', input_shape = (28,28,1)))\n",
    "model2.add(Conv2D(filters = 32, kernel_size = (5,5),padding = 'Same', \n",
    "                 activation ='relu'))\n",
    "model2.add(MaxPool2D(pool_size=(2,2)))\n",
    "model2.add(Dropout(0.25))\n",
    "\n",
    "\n",
    "model2.add(Conv2D(filters = 64, kernel_size = (3,3),padding = 'Same', \n",
    "                 activation ='relu'))\n",
    "model2.add(Conv2D(filters = 64, kernel_size = (3,3),padding = 'Same', \n",
    "                 activation ='relu'))\n",
    "model2.add(MaxPool2D(pool_size=(2,2), strides=(2,2)))\n",
    "model2.add(Dropout(0.25))\n",
    "\n",
    "\n",
    "model2.add(Flatten())\n",
    "model2.add(Dense(256, activation = \"relu\"))\n",
    "model2.add(Dropout(0.5))\n",
    "model2.add(Dense(10, activation = \"softmax\"))"
   ]
  },
  {
   "cell_type": "code",
   "execution_count": 30,
   "id": "69a31639-035f-4497-bea6-072d724fc436",
   "metadata": {},
   "outputs": [],
   "source": [
    "# Compile the model\n",
    "model2.compile(optimizer = 'adam' , loss = \"categorical_crossentropy\", metrics=[\"accuracy\"])"
   ]
  },
  {
   "cell_type": "code",
   "execution_count": 31,
   "id": "5a761a00-da84-4b1d-b8be-8597aa8a2cdb",
   "metadata": {},
   "outputs": [
    {
     "name": "stdout",
     "output_type": "stream",
     "text": [
      "Epoch 1/20\n",
      "148/148 [==============================] - 60s 405ms/step - loss: 0.3711 - accuracy: 0.8784 - val_loss: 0.0702 - val_accuracy: 0.9798\n",
      "Epoch 2/20\n",
      "148/148 [==============================] - 59s 401ms/step - loss: 0.0927 - accuracy: 0.9719 - val_loss: 0.0508 - val_accuracy: 0.9833\n",
      "Epoch 3/20\n",
      "148/148 [==============================] - 60s 406ms/step - loss: 0.0660 - accuracy: 0.9801 - val_loss: 0.0444 - val_accuracy: 0.9864\n",
      "Epoch 4/20\n",
      "148/148 [==============================] - 60s 406ms/step - loss: 0.0535 - accuracy: 0.9833 - val_loss: 0.0364 - val_accuracy: 0.9895\n",
      "Epoch 5/20\n",
      "148/148 [==============================] - 60s 407ms/step - loss: 0.0457 - accuracy: 0.9859 - val_loss: 0.0290 - val_accuracy: 0.9905\n",
      "Epoch 6/20\n",
      "148/148 [==============================] - 60s 405ms/step - loss: 0.0401 - accuracy: 0.9874 - val_loss: 0.0338 - val_accuracy: 0.9898\n",
      "Epoch 7/20\n",
      "148/148 [==============================] - 60s 406ms/step - loss: 0.0340 - accuracy: 0.9894 - val_loss: 0.0373 - val_accuracy: 0.9895\n",
      "Epoch 8/20\n",
      "148/148 [==============================] - 60s 409ms/step - loss: 0.0318 - accuracy: 0.9899 - val_loss: 0.0377 - val_accuracy: 0.9900\n",
      "Epoch 9/20\n",
      "148/148 [==============================] - 62s 417ms/step - loss: 0.0276 - accuracy: 0.9913 - val_loss: 0.0298 - val_accuracy: 0.9917\n",
      "Epoch 10/20\n",
      "148/148 [==============================] - 60s 404ms/step - loss: 0.0257 - accuracy: 0.9919 - val_loss: 0.0354 - val_accuracy: 0.9914\n",
      "Epoch 11/20\n",
      "148/148 [==============================] - 74s 498ms/step - loss: 0.0230 - accuracy: 0.9927 - val_loss: 0.0376 - val_accuracy: 0.9905\n",
      "Epoch 12/20\n",
      "148/148 [==============================] - 119s 807ms/step - loss: 0.0203 - accuracy: 0.9936 - val_loss: 0.0355 - val_accuracy: 0.9914\n",
      "Epoch 13/20\n",
      "148/148 [==============================] - 111s 750ms/step - loss: 0.0212 - accuracy: 0.9928 - val_loss: 0.0230 - val_accuracy: 0.9921\n",
      "Epoch 14/20\n",
      "148/148 [==============================] - 70s 470ms/step - loss: 0.0191 - accuracy: 0.9941 - val_loss: 0.0292 - val_accuracy: 0.9917\n",
      "Epoch 15/20\n",
      "148/148 [==============================] - 65s 441ms/step - loss: 0.0172 - accuracy: 0.9944 - val_loss: 0.0284 - val_accuracy: 0.9929\n",
      "Epoch 16/20\n",
      "148/148 [==============================] - 64s 435ms/step - loss: 0.0179 - accuracy: 0.9940 - val_loss: 0.0263 - val_accuracy: 0.9921\n",
      "Epoch 17/20\n",
      "148/148 [==============================] - 65s 439ms/step - loss: 0.0154 - accuracy: 0.9946 - val_loss: 0.0318 - val_accuracy: 0.9929\n",
      "Epoch 18/20\n",
      "148/148 [==============================] - 65s 443ms/step - loss: 0.0153 - accuracy: 0.9951 - val_loss: 0.0280 - val_accuracy: 0.9929\n",
      "Epoch 19/20\n",
      "148/148 [==============================] - 62s 419ms/step - loss: 0.0154 - accuracy: 0.9946 - val_loss: 0.0313 - val_accuracy: 0.9933\n",
      "Epoch 20/20\n",
      "148/148 [==============================] - 62s 419ms/step - loss: 0.0131 - accuracy: 0.9956 - val_loss: 0.0354 - val_accuracy: 0.9924\n"
     ]
    }
   ],
   "source": [
    "history0 = model2.fit(X_train, Y_train, batch_size=256, epochs=20,validation_data = (X_val, Y_val))"
   ]
  },
  {
   "cell_type": "code",
   "execution_count": 41,
   "id": "40602dff-03b6-405e-bba3-55b16a9658ff",
   "metadata": {},
   "outputs": [
    {
     "data": {
      "image/png": "[encoded data removed]",
      "text/plain": [
       "<Figure size 432x288 with 2 Axes>"
      ]
     },
     "metadata": {
      "needs_background": "light"
     },
     "output_type": "display_data"
    }
   ],
   "source": [
    "# Plot the loss and accuracy curves for training and validation \n",
    "fig, ax = plt.subplots(2,1)\n",
    "ax[0].plot(history.history['loss'], color='b', label=\"Training loss\")\n",
    "ax[0].plot(history.history['val_loss'], color='r', label=\"validation loss\",axes =ax[0])\n",
    "legend = ax[0].legend(loc='best', shadow=True)\n"
   ]
  },
  {
   "cell_type": "code",
   "execution_count": null,
   "id": "d066ee45-84c8-4a2e-bb15-f15f4c6978e2",
   "metadata": {},
   "outputs": [],
   "source": []
  }
 ],
 "metadata": {
  "kernelspec": {
   "display_name": "Python 3 (ipykernel)",
   "language": "python",
   "name": "python3"
  },
  "language_info": {
   "codemirror_mode": {
    "name": "ipython",
    "version": 3
   },
   "file_extension": ".py",
   "mimetype": "text/x-python",
   "name": "python",
   "nbconvert_exporter": "python",
   "pygments_lexer": "ipython3",
   "version": "3.9.12"
  }
 },
 "nbformat": 4,
 "nbformat_minor": 5
}
