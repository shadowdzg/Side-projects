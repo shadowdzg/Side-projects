{
 "cells": [
  {
   "cell_type": "code",
   "execution_count": 1,
   "id": "f5436ddf-9b0d-4f3d-af06-dfc4f37d688e",
   "metadata": {},
   "outputs": [],
   "source": [
    "# Importing libraries\n",
    "import pandas as pd\n",
    "import numpy as np\n",
    "from sklearn.model_selection import train_test_split\n",
    "from sklearn.preprocessing import StandardScaler\n",
    "from sklearn.linear_model import LogisticRegression\n",
    "from sklearn.metrics import classification_report\n",
    "from sklearn.model_selection import KFold, cross_val_score"
   ]
  },
  {
   "cell_type": "code",
   "execution_count": 2,
   "id": "3e8a8609-3b48-4223-a192-863f124fc4d0",
   "metadata": {},
   "outputs": [],
   "source": [
    "np.random.seed(23)\n",
    "\n",
    "# Loading dataset into pandas dataframe\n",
    "data = pd.read_csv('spambase.data', names=[x for x in range(58)])\n",
    "\n",
    "data = data.sample(frac=1).reset_index(drop=True)\n",
    "\n",
    "# Now lets split dataset into features and target\n",
    "Y = data[57]\n",
    "del data[57]\n",
    "X = data"
   ]
  },
  {
   "cell_type": "code",
   "execution_count": 3,
   "id": "ecd38781-216f-4958-8ce5-9048f1663e11",
   "metadata": {},
   "outputs": [],
   "source": [
    "\n",
    "# Now lets lets split dataset into train and test set using scikit learn\n",
    "X_train, X_test, y_train, y_test = train_test_split(X, Y, test_size=0.3)\n",
    "\n",
    "# Now using scikit learn lets sacle dataset using standardscalar\n",
    "scaler = StandardScaler()\n",
    "X_train = scaler.fit_transform(X_train)\n",
    "X_test = scaler.transform(X_test)"
   ]
  },
  {
   "cell_type": "code",
   "execution_count": 4,
   "id": "738ec805-d8ed-4ed9-af82-6dcf1bcba928",
   "metadata": {},
   "outputs": [
    {
     "name": "stdout",
     "output_type": "stream",
     "text": [
      "\n",
      "Cross validation score is: \n",
      "\n",
      "[0.93478261 0.90993789 0.90372671 0.9378882  0.94409938 0.92236025\n",
      " 0.92236025 0.92857143 0.91304348 0.91925466]\n"
     ]
    }
   ],
   "source": [
    "# Lets do Cross validation in order to check whether model is performing consistantly and not over fitting\n",
    "clf_cv = LogisticRegression()\n",
    "kf = KFold(n_splits=10, shuffle=True)\n",
    "cv_results = cross_val_score(clf_cv, X_train, y_train, cv=kf, scoring=\"accuracy\", n_jobs=-1)\n",
    "\n",
    "print(\"\\nCross validation score is: \\n\")\n",
    "print(cv_results)\n"
   ]
  },
  {
   "cell_type": "code",
   "execution_count": 5,
   "id": "d05c716f-fa8a-4736-81b5-41017388e4a7",
   "metadata": {},
   "outputs": [],
   "source": [
    "clf = LogisticRegression().fit(X_train, y_train)\n",
    "\n",
    "predictions = clf.predict(X_test)"
   ]
  },
  {
   "cell_type": "code",
   "execution_count": 6,
   "id": "40144850-fba9-497d-8678-a56102ee0490",
   "metadata": {},
   "outputs": [
    {
     "name": "stdout",
     "output_type": "stream",
     "text": [
      "Classification results without any parameter tuning or CV are\n",
      "\n",
      "              precision    recall  f1-score   support\n",
      "\n",
      "           0       0.96      0.92      0.94       880\n",
      "           1       0.88      0.94      0.91       501\n",
      "\n",
      "    accuracy                           0.93      1381\n",
      "   macro avg       0.92      0.93      0.93      1381\n",
      "weighted avg       0.93      0.93      0.93      1381\n",
      "\n"
     ]
    }
   ],
   "source": [
    "print(\"Classification results without any parameter tuning or CV are\\n\")\n",
    "print(classification_report(predictions, y_test, labels=[0,1]))"
   ]
  },
  {
   "cell_type": "code",
   "execution_count": null,
   "id": "ef2a4129-45bf-4077-9834-126e0224c0b3",
   "metadata": {},
   "outputs": [],
   "source": []
  }
 ],
 "metadata": {
  "kernelspec": {
   "display_name": "Python 3 (ipykernel)",
   "language": "python",
   "name": "python3"
  },
  "language_info": {
   "codemirror_mode": {
    "name": "ipython",
    "version": 3
   },
   "file_extension": ".py",
   "mimetype": "text/x-python",
   "name": "python",
   "nbconvert_exporter": "python",
   "pygments_lexer": "ipython3",
   "version": "3.9.12"
  }
 },
 "nbformat": 4,
 "nbformat_minor": 5
}
